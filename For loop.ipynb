{
 "cells": [
  {
   "cell_type": "markdown",
   "metadata": {},
   "source": [
    "## Python - For loop\n",
    "\n",
    "Using loop we can perform calculations on each item. Since bulk processing is the main goal of python repeating processes on loops is constantly needed. Now let's look through the loop.\n",
    "\n",
    "The for loop in Python is used to iterate over a sequence (list, tuple, string) or other iterable objects."
   ]
  },
  {
   "cell_type": "code",
   "execution_count": 78,
   "metadata": {},
   "outputs": [],
   "source": [
    "Cities = ['Bombay','Delhi','Calcutta','Pune','Kochi','Ahmedabad']\n",
    "States = ['Karnataka', 'Delhi', 'West Bengal','Maharashtra','Kerala', 'Gujarat']"
   ]
  },
  {
   "cell_type": "markdown",
   "metadata": {},
   "source": [
    "## Syntax of \"for loop\"\n",
    "\n",
    "- x is the variable used in the syntax, it can be any name or letter you like.\n",
    "\n",
    "- The statement of the for loop must end with a :\n",
    "\n",
    "- To end any loop just change the indentation to normal"
   ]
  },
  {
   "cell_type": "code",
   "execution_count": 79,
   "metadata": {},
   "outputs": [
    {
     "name": "stdout",
     "output_type": "stream",
     "text": [
      "Bombay\n",
      "Delhi\n",
      "Calcutta\n",
      "Pune\n",
      "Kochi\n",
      "Ahmedabad\n"
     ]
    }
   ],
   "source": [
    "for x in Cities:\n",
    "    print(x)"
   ]
  },
  {
   "cell_type": "markdown",
   "metadata": {},
   "source": [
    "## range() function\n",
    "\n",
    "To perform an iteration over a sequence of whole numbers we use range() function.\n",
    "\n",
    "In simple form range(4) function prints number from 0 - 3.\n",
    "\n",
    "We can also define the start, stop and step size as range(start, stop,step_size). step_size defaults to 1 if not provided."
   ]
  },
  {
   "cell_type": "code",
   "execution_count": 80,
   "metadata": {},
   "outputs": [
    {
     "name": "stdout",
     "output_type": "stream",
     "text": [
      "0\n",
      "1\n",
      "2\n",
      "3\n",
      "/\n",
      "1\n",
      "3\n",
      "5\n"
     ]
    }
   ],
   "source": [
    "for no in range(4):\n",
    "    print(no)\n",
    "print(\"/\")\n",
    "for no in range(1,6,2):\n",
    "    print(no)"
   ]
  },
  {
   "cell_type": "markdown",
   "metadata": {},
   "source": [
    "## Iterate over a list using indexing\n",
    "\n",
    "range() function can be combined with the len() function to iterate through a sequence using indexing.\n",
    "\n",
    "A for loop can have an optional else block as well. The else part is executed if the items in the sequence used in for loop exhausts.\n"
   ]
  },
  {
   "cell_type": "code",
   "execution_count": 81,
   "metadata": {},
   "outputs": [
    {
     "name": "stdout",
     "output_type": "stream",
     "text": [
      "Metro cities of India: 1 - Bombay\n",
      "Metro cities of India: 2 - Delhi\n",
      "Metro cities of India: 3 - Calcutta\n",
      "Metro cities of India: 4 - Pune\n",
      "Metro cities of India: 5 - Kochi\n",
      "Metro cities of India: 6 - Ahmedabad\n",
      "No items left\n"
     ]
    }
   ],
   "source": [
    "for i in range(len(Cities)):\n",
    "    print(f\"Metro cities of India: {i+1} - {Cities[i]}\")\n",
    "else:\n",
    "    print(\"No items left\")\n"
   ]
  },
  {
   "cell_type": "markdown",
   "metadata": {},
   "source": [
    "The body of a loop can contain many statements"
   ]
  },
  {
   "cell_type": "code",
   "execution_count": 82,
   "metadata": {},
   "outputs": [
    {
     "name": "stdout",
     "output_type": "stream",
     "text": [
      "The sum is 45. And mean is 4.5\n"
     ]
    }
   ],
   "source": [
    "sum = 0\n",
    "for i in range(10):\n",
    "    sum = sum+i\n",
    "    mean = sum/len(range(10))\n",
    "    \n",
    "print(f'The sum is {sum}. And mean is {mean}')"
   ]
  },
  {
   "cell_type": "markdown",
   "metadata": {},
   "source": [
    "## break\n",
    "The break keyword can be used to stop a for loop. In such cases, the else part is ignored."
   ]
  },
  {
   "cell_type": "code",
   "execution_count": 83,
   "metadata": {},
   "outputs": [
    {
     "name": "stdout",
     "output_type": "stream",
     "text": [
      "0\n"
     ]
    }
   ],
   "source": [
    "for no in range(4):\n",
    "    print(no)\n",
    "    break"
   ]
  }
 ],
 "metadata": {
  "kernelspec": {
   "display_name": "Python 3.10.5 ('myenv')",
   "language": "python",
   "name": "python3"
  },
  "language_info": {
   "codemirror_mode": {
    "name": "ipython",
    "version": 3
   },
   "file_extension": ".py",
   "mimetype": "text/x-python",
   "name": "python",
   "nbconvert_exporter": "python",
   "pygments_lexer": "ipython3",
   "version": "3.10.5"
  },
  "orig_nbformat": 4,
  "vscode": {
   "interpreter": {
    "hash": "e78ea15611fa60b5c0a709edc53f5dc9dd7a6ba9b6c9ac19db4c428be19dc652"
   }
  }
 },
 "nbformat": 4,
 "nbformat_minor": 2
}

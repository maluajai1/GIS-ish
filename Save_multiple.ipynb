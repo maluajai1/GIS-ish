{
 "cells": [
  {
   "cell_type": "code",
   "execution_count": 58,
   "id": "8020c7ca-be81-4581-acea-35a4d93307aa",
   "metadata": {},
   "outputs": [],
   "source": [
    "# import modules\n",
    "import pathlib \n",
    "import geopandas"
   ]
  },
  {
   "cell_type": "code",
   "execution_count": 59,
   "id": "804d8dee-c6f8-4163-9e11-ca786e45d707",
   "metadata": {},
   "outputs": [],
   "source": [
    "# data paths\n",
    "NOTEBOOK_PATH = pathlib.Path().resolve()\n",
    "DATA_DIRECTORY = NOTEBOOK_PATH /\"India.shp\""
   ]
  },
  {
   "cell_type": "code",
   "execution_count": 60,
   "id": "a2cb4cff-0035-4428-9973-a1bb705478ee",
   "metadata": {},
   "outputs": [],
   "source": [
    "data = geopandas.read_file(DATA_DIRECTORY)"
   ]
  },
  {
   "cell_type": "code",
   "execution_count": 61,
   "id": "3d380903-435f-40b9-85db-28fe5060ca80",
   "metadata": {},
   "outputs": [
    {
     "data": {
      "text/html": [
       "<div>\n",
       "<style scoped>\n",
       "    .dataframe tbody tr th:only-of-type {\n",
       "        vertical-align: middle;\n",
       "    }\n",
       "\n",
       "    .dataframe tbody tr th {\n",
       "        vertical-align: top;\n",
       "    }\n",
       "\n",
       "    .dataframe thead th {\n",
       "        text-align: right;\n",
       "    }\n",
       "</style>\n",
       "<table border=\"1\" class=\"dataframe\">\n",
       "  <thead>\n",
       "    <tr style=\"text-align: right;\">\n",
       "      <th></th>\n",
       "      <th>OBJECTID</th>\n",
       "      <th>STATE</th>\n",
       "      <th>State_LGD</th>\n",
       "      <th>Shape_Leng</th>\n",
       "      <th>Shape_Le_1</th>\n",
       "      <th>Shape_Area</th>\n",
       "      <th>geometry</th>\n",
       "    </tr>\n",
       "  </thead>\n",
       "  <tbody>\n",
       "    <tr>\n",
       "      <th>0</th>\n",
       "      <td>1</td>\n",
       "      <td>Andaman &amp; Nicobar</td>\n",
       "      <td>35</td>\n",
       "      <td>5.824763e+06</td>\n",
       "      <td>5.824763e+06</td>\n",
       "      <td>7.837276e+09</td>\n",
       "      <td>MULTIPOLYGON (((5575271.419 2199389.821, 55752...</td>\n",
       "    </tr>\n",
       "    <tr>\n",
       "      <th>1</th>\n",
       "      <td>2</td>\n",
       "      <td>Andhra Pradesh</td>\n",
       "      <td>28</td>\n",
       "      <td>5.334647e+06</td>\n",
       "      <td>5.334647e+06</td>\n",
       "      <td>1.599742e+11</td>\n",
       "      <td>POLYGON ((4484061.304 3482639.720, 4484153.303...</td>\n",
       "    </tr>\n",
       "    <tr>\n",
       "      <th>2</th>\n",
       "      <td>3</td>\n",
       "      <td>Arunachal Pradesh</td>\n",
       "      <td>12</td>\n",
       "      <td>2.618522e+06</td>\n",
       "      <td>2.618522e+06</td>\n",
       "      <td>7.933917e+10</td>\n",
       "      <td>POLYGON ((5541236.369 4673135.890, 5543000.102...</td>\n",
       "    </tr>\n",
       "    <tr>\n",
       "      <th>3</th>\n",
       "      <td>4</td>\n",
       "      <td>Assam</td>\n",
       "      <td>18</td>\n",
       "      <td>3.228020e+06</td>\n",
       "      <td>3.228020e+06</td>\n",
       "      <td>7.554956e+10</td>\n",
       "      <td>POLYGON ((5310055.311 4167338.817, 5310055.270...</td>\n",
       "    </tr>\n",
       "    <tr>\n",
       "      <th>4</th>\n",
       "      <td>5</td>\n",
       "      <td>Bihar</td>\n",
       "      <td>10</td>\n",
       "      <td>2.980745e+06</td>\n",
       "      <td>2.980745e+06</td>\n",
       "      <td>9.061637e+10</td>\n",
       "      <td>POLYGON ((4398747.075 4388549.516, 4398767.519...</td>\n",
       "    </tr>\n",
       "  </tbody>\n",
       "</table>\n",
       "</div>"
      ],
      "text/plain": [
       "   OBJECTID              STATE  State_LGD    Shape_Leng    Shape_Le_1  \\\n",
       "0         1  Andaman & Nicobar         35  5.824763e+06  5.824763e+06   \n",
       "1         2     Andhra Pradesh         28  5.334647e+06  5.334647e+06   \n",
       "2         3  Arunachal Pradesh         12  2.618522e+06  2.618522e+06   \n",
       "3         4              Assam         18  3.228020e+06  3.228020e+06   \n",
       "4         5              Bihar         10  2.980745e+06  2.980745e+06   \n",
       "\n",
       "     Shape_Area                                           geometry  \n",
       "0  7.837276e+09  MULTIPOLYGON (((5575271.419 2199389.821, 55752...  \n",
       "1  1.599742e+11  POLYGON ((4484061.304 3482639.720, 4484153.303...  \n",
       "2  7.933917e+10  POLYGON ((5541236.369 4673135.890, 5543000.102...  \n",
       "3  7.554956e+10  POLYGON ((5310055.311 4167338.817, 5310055.270...  \n",
       "4  9.061637e+10  POLYGON ((4398747.075 4388549.516, 4398767.519...  "
      ]
     },
     "execution_count": 61,
     "metadata": {},
     "output_type": "execute_result"
    }
   ],
   "source": [
    "data.head()"
   ]
  },
  {
   "cell_type": "code",
   "execution_count": 62,
   "id": "3ed72163-2529-4f65-9fb5-bf2991d019fa",
   "metadata": {},
   "outputs": [
    {
     "data": {
      "text/plain": [
       "<AxesSubplot: >"
      ]
     },
     "execution_count": 62,
     "metadata": {},
     "output_type": "execute_result"
    },
    {
     "data": {
      "image/png": "[encoded data removed]",
      "text/plain": [
       "<Figure size 432x288 with 1 Axes>"
      ]
     },
     "metadata": {
      "needs_background": "light"
     },
     "output_type": "display_data"
    }
   ],
   "source": [
    "data.plot()"
   ]
  },
  {
   "cell_type": "code",
   "execution_count": 79,
   "id": "cccbfe7c-5d71-418e-8f79-8731cbc3f0ae",
   "metadata": {},
   "outputs": [
    {
     "name": "stdout",
     "output_type": "stream",
     "text": [
      "Andaman & Nicobar\n",
      "Andhra Pradesh\n",
      "Arunachal Pradesh\n",
      "Assam\n",
      "Bihar\n",
      "Chandigarh\n",
      "Chhattisgarh\n",
      "Dadra & Nagar Haveli & Daman & Diu\n",
      "Delhi\n",
      "Disputed (Madhya Pradesh & Gujarat)\n",
      "Disputed (Madhya Pradesh & Rajasthan)\n",
      "Disputed (Rajathan & Gujarat)\n",
      "Disputed (West Bengal , Bihar & Jharkhand)\n",
      "Goa\n",
      "Gujarat\n",
      "Haryana\n",
      "Himachal Pradesh\n",
      "Jammu And Kashmir\n",
      "Jharkhand\n",
      "Karnataka\n",
      "Kerala\n",
      "Ladakh\n",
      "Lakshadweep\n",
      "Madhya Pradesh\n",
      "Maharashtra\n",
      "Manipur\n",
      "Meghalaya\n",
      "Mizoram\n",
      "Nagaland\n",
      "Odisha\n",
      "Puducherry\n",
      "Punjab\n",
      "Rajasthan\n",
      "Sikkim\n",
      "Tamil Nadu\n",
      "Telangana\n",
      "Tripura\n",
      "Uttarakhand\n",
      "Uttar Pradesh\n",
      "West Bengal\n"
     ]
    }
   ],
   "source": [
    "for idx, row in data.iterrows():\n",
    "    name = data.at[idx, \"STATE\"]       \n",
    "    print(name)"
   ]
  },
  {
   "cell_type": "code",
   "execution_count": 80,
   "id": "ae9c7db6-9de2-434a-95f2-5cb74bf3bcf6",
   "metadata": {},
   "outputs": [],
   "source": [
    "for idx, row in data.iterrows():\n",
    "    name = data.at[idx, \"STATE\"]\n",
    "    states = data.loc[[idx],'geometry']\n",
    "    #print(name)\n",
    "    states.to_file(f\"{name}.shp\")\n"
   ]
  }
 ],
 "metadata": {
  "kernelspec": {
   "display_name": "Python 3 (ipykernel)",
   "language": "python",
   "name": "python3"
  },
  "language_info": {
   "codemirror_mode": {
    "name": "ipython",
    "version": 3
   },
   "file_extension": ".py",
   "mimetype": "text/x-python",
   "name": "python",
   "nbconvert_exporter": "python",
   "pygments_lexer": "ipython3",
   "version": "3.10.4"
  }
 },
 "nbformat": 4,
 "nbformat_minor": 5
}

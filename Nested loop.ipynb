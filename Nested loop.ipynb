{
 "cells": [
  {
   "cell_type": "markdown",
   "metadata": {},
   "source": [
    "## Python- Nested loop\n",
    "\n",
    "This was one of the reasons to start writing. Forcing myself to learn, the nested loop was one of the extra exercises in my lesson that I gave up on. \n"
   ]
  },
  {
   "cell_type": "markdown",
   "metadata": {},
   "source": [
    "Nested loops can be used to create patterns in python. In this we will make a US flag (which was my exercise for GeoPython course)."
   ]
  },
  {
   "cell_type": "markdown",
   "metadata": {},
   "source": [
    "Python programming language allows to use one loop inside another loop. The outer loop can contain more than one inner loop. There is no limitation on the chaining of loops."
   ]
  },
  {
   "cell_type": "markdown",
   "metadata": {},
   "source": [
    "\n",
    "Nested loops are typically used for working with multidimensional data structures, such as printing two-dimensional arrays, and iterating a list that contains a nested list."
   ]
  },
  {
   "cell_type": "code",
   "execution_count": null,
   "metadata": {},
   "outputs": [],
   "source": []
  }
 ],
 "metadata": {
  "kernelspec": {
   "display_name": "Python 3.10.5 ('myenv')",
   "language": "python",
   "name": "python3"
  },
  "language_info": {
   "name": "python",
   "version": "3.10.5"
  },
  "orig_nbformat": 4,
  "vscode": {
   "interpreter": {
    "hash": "e78ea15611fa60b5c0a709edc53f5dc9dd7a6ba9b6c9ac19db4c428be19dc652"
   }
  }
 },
 "nbformat": 4,
 "nbformat_minor": 2
}

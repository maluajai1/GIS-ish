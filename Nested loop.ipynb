{
 "cells": [
  {
   "cell_type": "markdown",
   "metadata": {},
   "source": [
    "## Python- Nested loop\n",
    "\n",
    "This was one of the reasons to start writing. Forcing myself to learn, the nested loop was one of the extra exercises in my lesson that I gave up on. So let's try to learn.\n"
   ]
  },
  {
   "cell_type": "markdown",
   "metadata": {},
   "source": [
    "Nested loops can be used to create patterns in python. In this we will make a US flag (which was my exercise for GeoPython course)."
   ]
  },
  {
   "cell_type": "markdown",
   "metadata": {},
   "source": [
    "Python programming language allows to use one loop inside another loop. The outer loop can contain more than one inner loop. There is no limitation on the chaining of loops."
   ]
  },
  {
   "cell_type": "markdown",
   "metadata": {},
   "source": [
    "\n",
    "Nested loops are typically used for working with multidimensional data structures, such as printing two-dimensional arrays, and iterating a list that contains a nested list."
   ]
  },
  {
   "cell_type": "markdown",
   "metadata": {},
   "source": [
    "## Multiplication table\n",
    "\n",
    "To print the multiplication table\n",
    "\n",
    "In the outer loop to call the first 5 numbers the range has to start from 1 and end in 6. So total number of iteration of the outer loop is 5.\n",
    "\n",
    "\n",
    "In the inner loop is for each iteration of the outer loop, the inner loop will execute it ten times. In each iteration of an inner loop, we calculated the multiplication of two numbers. Thus we get the multiplication table up to 5.\n",
    "\n",
    "Here the print function is used with a parameter called end, the value of this parameter is '\\n', i.e. the new line character. This will print each multiplication table in a single line."
   ]
  },
  {
   "cell_type": "code",
   "execution_count": 10,
   "metadata": {},
   "outputs": [
    {
     "name": "stdout",
     "output_type": "stream",
     "text": [
      "1 2 3 4 5 6 7 8 9 10 \n",
      "2 4 6 8 10 12 14 16 18 20 \n",
      "3 6 9 12 15 18 21 24 27 30 \n",
      "4 8 12 16 20 24 28 32 36 40 \n",
      "5 10 15 20 25 30 35 40 45 50 \n"
     ]
    }
   ],
   "source": [
    "for i in range(1,6):\n",
    "    for j in range(1,11):\n",
    "        print(j * i, end= \" \" )\n",
    "    print()"
   ]
  },
  {
   "cell_type": "markdown",
   "metadata": {},
   "source": [
    "## Print pattern\n"
   ]
  },
  {
   "cell_type": "markdown",
   "metadata": {},
   "source": [
    "In this program, the outer loop is the number of rows print. \n",
    "\n",
    "Next, the inner loop is the total number of columns in each row.\n",
    "\n",
    "For each iteration of the outer loop, the columns count gets incremented by 1\n",
    "\n",
    "In each iteration of an inner loop, for the first 3 rows the condition will vary from the remaining 2 rows.\n",
    "The first 3 rows will print start upto the 7th column then it will print the line."
   ]
  },
  {
   "cell_type": "code",
   "execution_count": 27,
   "metadata": {},
   "outputs": [
    {
     "name": "stdout",
     "output_type": "stream",
     "text": [
      "*******------------\n",
      "*******------------\n",
      "*******------------\n",
      "-------------------\n",
      "-------------------\n",
      "\n"
     ]
    }
   ],
   "source": [
    "line = \"-\"\n",
    "star = \"*\"\n",
    "flag =''\n",
    "for x in range(5):\n",
    "    for i in range(19):\n",
    "        if x < 3:\n",
    "            if i < 7:\n",
    "                flag = flag + star\n",
    "            else:\n",
    "                flag = flag + line\n",
    "        else:\n",
    "            flag = flag + line           \n",
    "    flag = flag + \"\\n\"\n",
    "print(flag) "
   ]
  }
 ],
 "metadata": {
  "kernelspec": {
   "display_name": "Python 3.10.5 ('myenv')",
   "language": "python",
   "name": "python3"
  },
  "language_info": {
   "codemirror_mode": {
    "name": "ipython",
    "version": 3
   },
   "file_extension": ".py",
   "mimetype": "text/x-python",
   "name": "python",
   "nbconvert_exporter": "python",
   "pygments_lexer": "ipython3",
   "version": "3.10.5"
  },
  "orig_nbformat": 4,
  "vscode": {
   "interpreter": {
    "hash": "e78ea15611fa60b5c0a709edc53f5dc9dd7a6ba9b6c9ac19db4c428be19dc652"
   }
  }
 },
 "nbformat": 4,
 "nbformat_minor": 2
}

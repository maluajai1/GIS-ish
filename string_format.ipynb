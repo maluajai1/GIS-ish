{
 "cells": [
  {
   "cell_type": "markdown",
   "metadata": {},
   "source": [
    "## Python-String formatting\n",
    "\n",
    "This was one of the first complicated python approaches to learn. And you just do it all the time to get familiar with it. Oh, you got a value just print it to show your results neatly. When you have to combine a string and a number you need string formatting. There are couple of ways to do this, We can try it all and end with which I found the easiest."
   ]
  },
  {
   "cell_type": "code",
   "execution_count": 1,
   "metadata": {},
   "outputs": [],
   "source": [
    "name = 'Ananya'\n",
    "age = 30\n",
    "weight = 77.16523"
   ]
  },
  {
   "cell_type": "markdown",
   "metadata": {},
   "source": [
    "## % operator\n",
    "\n",
    "Add “%s” to every place where you want to add the variables. The variables to be added are entered at the end of the sentence in the required order. There are various argument specifiers to be used for different types of variables.\n",
    "\n",
    "%s -String\n",
    "\n",
    "%d -Integer\n",
    "\n",
    "%f- Float\n",
    "\n",
    "%.<number of digits> Floating point numbers with a fixed amount of digits to the right of the dot"
   ]
  },
  {
   "cell_type": "code",
   "execution_count": 51,
   "metadata": {},
   "outputs": [
    {
     "data": {
      "text/plain": [
       "'my name is Ananya. My age is 30. My weight is 77.17'"
      ]
     },
     "execution_count": 51,
     "metadata": {},
     "output_type": "execute_result"
    }
   ],
   "source": [
    "'my name is %s. My age is %d. My weight is %.2f' % (name,age,weight)"
   ]
  },
  {
   "cell_type": "markdown",
   "metadata": {},
   "source": [
    "The method is simple but requires a lot of typing and different arguments."
   ]
  },
  {
   "cell_type": "markdown",
   "metadata": {},
   "source": [
    "## .format() method\n",
    "\n",
    "Use {} to mark the place where a variable is substituted and can provide detailed formatting directives. Here positional formatting can be done by passing numbers in the brackets the order of variables is not important."
   ]
  },
  {
   "cell_type": "code",
   "execution_count": 68,
   "metadata": {},
   "outputs": [
    {
     "data": {
      "text/plain": [
       "'my name is Ananya. My age is 30. My weight is 77.16523'"
      ]
     },
     "execution_count": 68,
     "metadata": {},
     "output_type": "execute_result"
    }
   ],
   "source": [
    "'my name is {1}. My age is {0}. My weight is {2:.2f}' .format(age,name,weight)"
   ]
  },
  {
   "cell_type": "markdown",
   "metadata": {},
   "source": [
    "Argument specifiers can be added in this case also similar to the last case."
   ]
  },
  {
   "cell_type": "code",
   "execution_count": 75,
   "metadata": {},
   "outputs": [
    {
     "data": {
      "text/plain": [
       "'my name is Ananya. My age is 30. My weight is 77.2'"
      ]
     },
     "execution_count": 75,
     "metadata": {},
     "output_type": "execute_result"
    }
   ],
   "source": [
    "'my name is {0}. My age is {1:d}. My weight is {2:.1f}' .format(name,age,weight)"
   ]
  },
  {
   "cell_type": "markdown",
   "metadata": {},
   "source": [
    "## f - strings — added in Python(3.6)\n",
    "\n",
    "This is the newest and my favorite method. This lets you use embedded Python expressions inside string constants. This prefixes the string constant with the letter “f”—hence the name “f-strings.”"
   ]
  },
  {
   "cell_type": "code",
   "execution_count": 76,
   "metadata": {},
   "outputs": [
    {
     "data": {
      "text/plain": [
       "'my name is Ananya. My age is 30. My weight is 77.2'"
      ]
     },
     "execution_count": 76,
     "metadata": {},
     "output_type": "execute_result"
    }
   ],
   "source": [
    "f'my name is {name}. My age is {age}. My weight is {weight:.1f}' "
   ]
  },
  {
   "cell_type": "markdown",
   "metadata": {},
   "source": [
    "This new formatting syntax is powerful. Because you can embed arbitrary Python expressions, you can even do inline arithmetic with it."
   ]
  },
  {
   "cell_type": "code",
   "execution_count": 80,
   "metadata": {},
   "outputs": [
    {
     "data": {
      "text/plain": [
       "'just for fun 96.'"
      ]
     },
     "execution_count": 80,
     "metadata": {},
     "output_type": "execute_result"
    }
   ],
   "source": [
    "f'just for fun {6 + 90}.'"
   ]
  }
 ],
 "metadata": {
  "kernelspec": {
   "display_name": "Python 3.10.5 ('myenv')",
   "language": "python",
   "name": "python3"
  },
  "language_info": {
   "codemirror_mode": {
    "name": "ipython",
    "version": 3
   },
   "file_extension": ".py",
   "mimetype": "text/x-python",
   "name": "python",
   "nbconvert_exporter": "python",
   "pygments_lexer": "ipython3",
   "version": "3.10.5"
  },
  "orig_nbformat": 4,
  "vscode": {
   "interpreter": {
    "hash": "e78ea15611fa60b5c0a709edc53f5dc9dd7a6ba9b6c9ac19db4c428be19dc652"
   }
  }
 },
 "nbformat": 4,
 "nbformat_minor": 2
}
